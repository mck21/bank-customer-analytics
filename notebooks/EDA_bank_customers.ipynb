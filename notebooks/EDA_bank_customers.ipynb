{
 "cells": [
  {
   "cell_type": "markdown",
   "metadata": {},
   "source": [
    "# Análisis Exploratorio de Datos - Clientes Bancarios\n",
    "# Este notebook realiza el análisis exploratorio de datos de clientes bancarios"
   ]
  },
  {
   "cell_type": "code",
   "execution_count": 3,
   "metadata": {},
   "outputs": [],
   "source": [
    "# Importar librerías necesarias\n",
    "import pandas as pd\n",
    "import numpy as np\n",
    "import matplotlib.pyplot as plt\n",
    "import seaborn as sns\n",
    "\n",
    "# Configuración de visualización\n",
    "plt.style.use('default')\n",
    "sns.set_theme()\n",
    "%matplotlib inline\n",
    "\n",
    "# Importar funciones de carga de datos\n",
    "import sys\n",
    "sys.path.append('../src')\n",
    "from data.data_loader import load_customer_data, load_bank_data, get_basic_info"
   ]
  },
  {
   "cell_type": "code",
   "execution_count": 4,
   "metadata": {},
   "outputs": [],
   "source": [
    "# Cargar datos de clientes\n",
    "df_customers = load_customer_data()\n",
    "\n",
    "# Cargar datos bancarios\n",
    "df_bank = load_bank_data()"
   ]
  },
  {
   "cell_type": "code",
   "execution_count": 5,
   "metadata": {},
   "outputs": [
    {
     "name": "stdout",
     "output_type": "stream",
     "text": [
      "=== Información de Datos de Clientes ===\n",
      "\n",
      "Información del DataFrame:\n",
      "<class 'pandas.core.frame.DataFrame'>\n",
      "RangeIndex: 20115 entries, 0 to 20114\n",
      "Data columns (total 7 columns):\n",
      " #   Column             Non-Null Count  Dtype         \n",
      "---  ------             --------------  -----         \n",
      " 0   Unnamed: 0         20115 non-null  int64         \n",
      " 1   Income             20115 non-null  int64         \n",
      " 2   Kidhome            20115 non-null  int64         \n",
      " 3   Teenhome           20115 non-null  int64         \n",
      " 4   Dt_Customer        20115 non-null  datetime64[ns]\n",
      " 5   NumWebVisitsMonth  20115 non-null  int64         \n",
      " 6   ID                 20115 non-null  object        \n",
      "dtypes: datetime64[ns](1), int64(5), object(1)\n",
      "memory usage: 1.1+ MB\n",
      "None\n",
      "\n",
      "Primeras 5 filas:\n",
      "   Unnamed: 0  Income  Kidhome  Teenhome Dt_Customer  NumWebVisitsMonth  \\\n",
      "0           0  161770        1         0  2012-04-04                 29   \n",
      "1           1   85477        1         1  2012-12-30                  7   \n",
      "2           2  147233        1         1  2012-02-02                  5   \n",
      "3           3  121393        1         2  2012-12-21                 29   \n",
      "4           4   63164        1         2  2012-06-20                 20   \n",
      "\n",
      "                                     ID  \n",
      "0  089b39d8-e4d0-461b-87d4-814d71e0e079  \n",
      "1  e9d37224-cb6f-4942-98d7-46672963d097  \n",
      "2  3f9f49b5-e410-4948-bf6e-f9244f04918b  \n",
      "3  9991fafb-4447-451a-8be2-b0df6098d13e  \n",
      "4  eca60b76-70b6-4077-80ba-bc52e8ebb0eb  \n",
      "\n",
      "Estadísticas descriptivas:\n",
      "         Unnamed: 0         Income       Kidhome      Teenhome  \\\n",
      "count  20115.000000   20115.000000  20115.000000  20115.000000   \n",
      "mean   10057.000000   93087.213224      1.004176      0.999503   \n",
      "min        0.000000    5852.000000      0.000000      0.000000   \n",
      "25%     5028.500000   49110.000000      0.000000      0.000000   \n",
      "50%    10057.000000   92962.000000      1.000000      1.000000   \n",
      "75%    15085.500000  136705.000000      2.000000      2.000000   \n",
      "max    20114.000000  180791.000000      2.000000      2.000000   \n",
      "std     5806.844668   50614.798255      0.816811      0.815298   \n",
      "\n",
      "                         Dt_Customer  NumWebVisitsMonth  \n",
      "count                          20115       20115.000000  \n",
      "mean   2012-07-01 17:15:14.362416128          16.540790  \n",
      "min              2012-01-01 00:00:00           1.000000  \n",
      "25%              2012-04-01 00:00:00           9.000000  \n",
      "50%              2012-07-02 00:00:00          16.000000  \n",
      "75%              2012-09-30 00:00:00          25.000000  \n",
      "max              2012-12-31 00:00:00          32.000000  \n",
      "std                              NaN           9.235324  \n",
      "\n",
      "Valores nulos:\n",
      "Unnamed: 0           0\n",
      "Income               0\n",
      "Kidhome              0\n",
      "Teenhome             0\n",
      "Dt_Customer          0\n",
      "NumWebVisitsMonth    0\n",
      "ID                   0\n",
      "dtype: int64\n",
      "\n",
      "=== Información de Datos Bancarios ===\n",
      "\n",
      "Información del DataFrame:\n",
      "<class 'pandas.core.frame.DataFrame'>\n",
      "RangeIndex: 43000 entries, 0 to 42999\n",
      "Data columns (total 1 columns):\n",
      " #   Column                                                                                                                                                                                           Non-Null Count  Dtype \n",
      "---  ------                                                                                                                                                                                           --------------  ----- \n",
      " 0   ,age,job,marital,education,default,housing,loan,contact,duration,campaign,pdays,previous,poutcome,emp.var.rate,cons.price.idx,cons.conf.idx,euribor3m,nr.employed,y,date,latitude,longitude,id_  43000 non-null  object\n",
      "dtypes: object(1)\n",
      "memory usage: 336.1+ KB\n",
      "None\n",
      "\n",
      "Primeras 5 filas:\n",
      "  ,age,job,marital,education,default,housing,loan,contact,duration,campaign,pdays,previous,poutcome,emp.var.rate,cons.price.idx,cons.conf.idx,euribor3m,nr.employed,y,date,latitude,longitude,id_\n",
      "0  0,,housemaid,MARRIED,basic.4y,0.0,0.0,0.0,tele...                                                                                                                                             \n",
      "1  1,57.0,services,MARRIED,high.school,,0.0,0.0,t...                                                                                                                                             \n",
      "2  2,37.0,services,MARRIED,high.school,0.0,1.0,0....                                                                                                                                             \n",
      "3  3,40.0,admin.,MARRIED,basic.6y,0.0,0.0,0.0,tel...                                                                                                                                             \n",
      "4  4,56.0,services,MARRIED,high.school,0.0,0.0,1....                                                                                                                                             \n",
      "\n",
      "Estadísticas descriptivas:\n",
      "       ,age,job,marital,education,default,housing,loan,contact,duration,campaign,pdays,previous,poutcome,emp.var.rate,cons.price.idx,cons.conf.idx,euribor3m,nr.employed,y,date,latitude,longitude,id_\n",
      "count                                               43000                                                                                                                                             \n",
      "unique                                              43000                                                                                                                                             \n",
      "top     27570,,unemployed,SINGLE,university.degree,0.0...                                                                                                                                             \n",
      "freq                                                    1                                                                                                                                             \n",
      "\n",
      "Valores nulos:\n",
      ",age,job,marital,education,default,housing,loan,contact,duration,campaign,pdays,previous,poutcome,emp.var.rate,cons.price.idx,cons.conf.idx,euribor3m,nr.employed,y,date,latitude,longitude,id_    0\n",
      "dtype: int64\n"
     ]
    }
   ],
   "source": [
    "# Información básica de los datos de clientes\n",
    "print(\"=== Información de Datos de Clientes ===\")\n",
    "get_basic_info(df_customers)\n",
    "\n",
    "# Información básica de los datos bancarios\n",
    "print(\"\\n=== Información de Datos Bancarios ===\")\n",
    "get_basic_info(df_bank)"
   ]
  },
  {
   "cell_type": "code",
   "execution_count": 6,
   "metadata": {},
   "outputs": [
    {
     "name": "stdout",
     "output_type": "stream",
     "text": [
      "Columnas en datos de clientes:\n",
      "['Unnamed: 0', 'Income', 'Kidhome', 'Teenhome', 'Dt_Customer', 'NumWebVisitsMonth', 'ID']\n",
      "\n",
      "Columnas en datos bancarios:\n",
      "[',age,job,marital,education,default,housing,loan,contact,duration,campaign,pdays,previous,poutcome,emp.var.rate,cons.price.idx,cons.conf.idx,euribor3m,nr.employed,y,date,latitude,longitude,id_']\n"
     ]
    }
   ],
   "source": [
    "# Mostrar columnas de cada dataset\n",
    "print(\"Columnas en datos de clientes:\")\n",
    "print(df_customers.columns.tolist())\n",
    "\n",
    "print(\"\\nColumnas en datos bancarios:\")\n",
    "print(df_bank.columns.tolist())"
   ]
  },
  {
   "cell_type": "code",
   "execution_count": 7,
   "metadata": {},
   "outputs": [
    {
     "name": "stdout",
     "output_type": "stream",
     "text": [
      "=== Valores Nulos en Datos de Clientes ===\n",
      "Series([], dtype: int64)\n",
      "\n",
      "=== Valores Nulos en Datos Bancarios ===\n",
      "Series([], dtype: int64)\n"
     ]
    }
   ],
   "source": [
    "## 4. Análisis de Valores Nulos\n",
    "\n",
    "# Undécima celda (code)\n",
    "# Análisis de valores nulos en datos de clientes\n",
    "print(\"=== Valores Nulos en Datos de Clientes ===\")\n",
    "null_customers = df_customers.isnull().sum()\n",
    "print(null_customers[null_customers > 0])\n",
    "\n",
    "# Análisis de valores nulos en datos bancarios\n",
    "print(\"\\n=== Valores Nulos en Datos Bancarios ===\")\n",
    "null_bank = df_bank.isnull().sum()\n",
    "print(null_bank[null_bank > 0])"
   ]
  }
 ],
 "metadata": {
  "kernelspec": {
   "display_name": "venv",
   "language": "python",
   "name": "python3"
  },
  "language_info": {
   "codemirror_mode": {
    "name": "ipython",
    "version": 3
   },
   "file_extension": ".py",
   "mimetype": "text/x-python",
   "name": "python",
   "nbconvert_exporter": "python",
   "pygments_lexer": "ipython3",
   "version": "3.13.2"
  }
 },
 "nbformat": 4,
 "nbformat_minor": 4
}
