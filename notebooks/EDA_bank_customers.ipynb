{
 "cells": [
  {
   "cell_type": "markdown",
   "metadata": {},
   "source": [
    "# Análisis Exploratorio de Datos - Clientes Bancarios\n",
    "## Este notebook realiza el análisis exploratorio de datos de un dataset de clientes bancarios con Python"
   ]
  },
  {
   "cell_type": "markdown",
   "metadata": {},
   "source": [
    "## 1. Importación de librerías y carga de datos"
   ]
  },
  {
   "cell_type": "code",
   "execution_count": 1,
   "metadata": {},
   "outputs": [],
   "source": [
    "# Importar librerías necesarias\n",
    "import pandas as pd\n",
    "import numpy as np\n",
    "import matplotlib.pyplot as plt\n",
    "import seaborn as sns\n",
    "\n",
    "# Configuración de visualización\n",
    "plt.style.use('default')\n",
    "sns.set_theme()\n",
    "%matplotlib inline\n",
    "\n",
    "# Importar funciones de carga de datos\n",
    "import sys\n",
    "sys.path.append('../src')\n",
    "from data.data_loader import load_customer_data, load_bank_data, get_basic_info"
   ]
  },
  {
   "cell_type": "code",
   "execution_count": 2,
   "metadata": {},
   "outputs": [],
   "source": [
    "# Cargar datos de clientes\n",
    "df_customers = load_customer_data()\n",
    "\n",
    "# Cargar datos bancarios\n",
    "df_bank = load_bank_data()"
   ]
  },
  {
   "cell_type": "code",
   "execution_count": 3,
   "metadata": {},
   "outputs": [
    {
     "name": "stdout",
     "output_type": "stream",
     "text": [
      "=== Información de Datos de Clientes ===\n",
      "\n",
      "Información del DataFrame:\n",
      "<class 'pandas.core.frame.DataFrame'>\n",
      "Index: 20115 entries, 0 to 20114\n",
      "Data columns (total 6 columns):\n",
      " #   Column             Non-Null Count  Dtype         \n",
      "---  ------             --------------  -----         \n",
      " 0   Income             20115 non-null  int64         \n",
      " 1   Kidhome            20115 non-null  int64         \n",
      " 2   Teenhome           20115 non-null  int64         \n",
      " 3   Dt_Customer        20115 non-null  datetime64[ns]\n",
      " 4   NumWebVisitsMonth  20115 non-null  int64         \n",
      " 5   ID                 20115 non-null  object        \n",
      "dtypes: datetime64[ns](1), int64(4), object(1)\n",
      "memory usage: 1.1+ MB\n",
      "None\n",
      "\n",
      "Primeras 5 filas:\n",
      "   Income  Kidhome  Teenhome Dt_Customer  NumWebVisitsMonth  \\\n",
      "0  161770        1         0  2012-04-04                 29   \n",
      "1   85477        1         1  2012-12-30                  7   \n",
      "2  147233        1         1  2012-02-02                  5   \n",
      "3  121393        1         2  2012-12-21                 29   \n",
      "4   63164        1         2  2012-06-20                 20   \n",
      "\n",
      "                                     ID  \n",
      "0  089b39d8-e4d0-461b-87d4-814d71e0e079  \n",
      "1  e9d37224-cb6f-4942-98d7-46672963d097  \n",
      "2  3f9f49b5-e410-4948-bf6e-f9244f04918b  \n",
      "3  9991fafb-4447-451a-8be2-b0df6098d13e  \n",
      "4  eca60b76-70b6-4077-80ba-bc52e8ebb0eb  \n",
      "\n",
      "Estadísticas descriptivas:\n",
      "              Income       Kidhome      Teenhome  \\\n",
      "count   20115.000000  20115.000000  20115.000000   \n",
      "mean    93087.213224      1.004176      0.999503   \n",
      "min      5852.000000      0.000000      0.000000   \n",
      "25%     49110.000000      0.000000      0.000000   \n",
      "50%     92962.000000      1.000000      1.000000   \n",
      "75%    136705.000000      2.000000      2.000000   \n",
      "max    180791.000000      2.000000      2.000000   \n",
      "std     50614.798255      0.816811      0.815298   \n",
      "\n",
      "                         Dt_Customer  NumWebVisitsMonth  \n",
      "count                          20115       20115.000000  \n",
      "mean   2012-07-01 17:15:14.362416128          16.540790  \n",
      "min              2012-01-01 00:00:00           1.000000  \n",
      "25%              2012-04-01 00:00:00           9.000000  \n",
      "50%              2012-07-02 00:00:00          16.000000  \n",
      "75%              2012-09-30 00:00:00          25.000000  \n",
      "max              2012-12-31 00:00:00          32.000000  \n",
      "std                              NaN           9.235324  \n",
      "\n",
      "Valores nulos:\n",
      "Income               0\n",
      "Kidhome              0\n",
      "Teenhome             0\n",
      "Dt_Customer          0\n",
      "NumWebVisitsMonth    0\n",
      "ID                   0\n",
      "dtype: int64\n",
      "\n",
      "=== Información de Datos Bancarios ===\n",
      "\n",
      "Información del DataFrame:\n",
      "<class 'pandas.core.frame.DataFrame'>\n",
      "Index: 43000 entries, 0 to 27570\n",
      "Data columns (total 23 columns):\n",
      " #   Column          Non-Null Count  Dtype  \n",
      "---  ------          --------------  -----  \n",
      " 0   age             37880 non-null  float64\n",
      " 1   job             42655 non-null  object \n",
      " 2   marital         42915 non-null  object \n",
      " 3   education       41193 non-null  object \n",
      " 4   default         34019 non-null  float64\n",
      " 5   housing         41974 non-null  float64\n",
      " 6   loan            41974 non-null  float64\n",
      " 7   contact         43000 non-null  object \n",
      " 8   duration        43000 non-null  int64  \n",
      " 9   campaign        43000 non-null  int64  \n",
      " 10  pdays           43000 non-null  int64  \n",
      " 11  previous        43000 non-null  int64  \n",
      " 12  poutcome        43000 non-null  object \n",
      " 13  emp.var.rate    43000 non-null  float64\n",
      " 14  cons.price.idx  42529 non-null  object \n",
      " 15  cons.conf.idx   43000 non-null  object \n",
      " 16  euribor3m       33744 non-null  object \n",
      " 17  nr.employed     43000 non-null  object \n",
      " 18  y               43000 non-null  object \n",
      " 19  date            42752 non-null  object \n",
      " 20  latitude        43000 non-null  float64\n",
      " 21  longitude       43000 non-null  float64\n",
      " 22  id_             43000 non-null  object \n",
      "dtypes: float64(7), int64(4), object(12)\n",
      "memory usage: 7.9+ MB\n",
      "None\n",
      "\n",
      "Primeras 5 filas:\n",
      "    age        job  marital    education  default  housing  loan    contact  \\\n",
      "0   NaN  housemaid  MARRIED     basic.4y      0.0      0.0   0.0  telephone   \n",
      "1  57.0   services  MARRIED  high.school      NaN      0.0   0.0  telephone   \n",
      "2  37.0   services  MARRIED  high.school      0.0      1.0   0.0  telephone   \n",
      "3  40.0     admin.  MARRIED     basic.6y      0.0      0.0   0.0  telephone   \n",
      "4  56.0   services  MARRIED  high.school      0.0      0.0   1.0  telephone   \n",
      "\n",
      "   duration  campaign  ...  emp.var.rate  cons.price.idx cons.conf.idx  \\\n",
      "0       261         1  ...           1.1          93,994         -36,4   \n",
      "1       149         1  ...           1.1          93,994         -36,4   \n",
      "2       226         1  ...           1.1          93,994         -36,4   \n",
      "3       151         1  ...           1.1          93,994         -36,4   \n",
      "4       307         1  ...           1.1          93,994         -36,4   \n",
      "\n",
      "   euribor3m nr.employed   y                date latitude longitude  \\\n",
      "0      4,857        5191  no       2-agosto-2019   41.495   -71.233   \n",
      "1        NaN        5191  no  14-septiembre-2016   34.601   -83.923   \n",
      "2      4,857        5191  no     15-febrero-2019   34.939   -94.847   \n",
      "3        NaN        5191  no   29-noviembre-2015   49.041   -70.308   \n",
      "4        NaN        5191  no       29-enero-2017   38.033  -104.463   \n",
      "\n",
      "                                    id_  \n",
      "0  089b39d8-e4d0-461b-87d4-814d71e0e079  \n",
      "1  e9d37224-cb6f-4942-98d7-46672963d097  \n",
      "2  3f9f49b5-e410-4948-bf6e-f9244f04918b  \n",
      "3  9991fafb-4447-451a-8be2-b0df6098d13e  \n",
      "4  eca60b76-70b6-4077-80ba-bc52e8ebb0eb  \n",
      "\n",
      "[5 rows x 23 columns]\n",
      "\n",
      "Estadísticas descriptivas:\n",
      "                age       default       housing          loan      duration  \\\n",
      "count  37880.000000  34019.000000  41974.000000  41974.000000  43000.000000   \n",
      "mean      39.977112      0.000088      0.535998      0.155620    257.739279   \n",
      "std       10.437957      0.009390      0.498708      0.362499    258.666033   \n",
      "min       17.000000      0.000000      0.000000      0.000000      0.000000   \n",
      "25%       32.000000      0.000000      0.000000      0.000000    102.000000   \n",
      "50%       38.000000      0.000000      1.000000      0.000000    179.000000   \n",
      "75%       47.000000      0.000000      1.000000      0.000000    319.000000   \n",
      "max       98.000000      1.000000      1.000000      1.000000   4918.000000   \n",
      "\n",
      "           campaign         pdays      previous  emp.var.rate      latitude  \\\n",
      "count  43000.000000  43000.000000  43000.000000  43000.000000  43000.000000   \n",
      "mean       2.567233    962.330953      0.174023      0.077128     36.856697   \n",
      "std        2.772294    187.260394      0.497366      1.573898      7.225948   \n",
      "min        1.000000      0.000000      0.000000     -3.400000     24.396000   \n",
      "25%        1.000000    999.000000      0.000000     -1.800000     30.614750   \n",
      "50%        2.000000    999.000000      0.000000      1.100000     36.761000   \n",
      "75%        3.000000    999.000000      0.000000      1.400000     43.113250   \n",
      "max       56.000000    999.000000      7.000000      1.400000     49.384000   \n",
      "\n",
      "          longitude  \n",
      "count  43000.000000  \n",
      "mean     -95.939067  \n",
      "std       16.752282  \n",
      "min     -124.997000  \n",
      "25%     -110.494250  \n",
      "50%      -95.899500  \n",
      "75%      -81.427750  \n",
      "max      -66.937000  \n",
      "\n",
      "Valores nulos:\n",
      "age               5120\n",
      "job                345\n",
      "marital             85\n",
      "education         1807\n",
      "default           8981\n",
      "housing           1026\n",
      "loan              1026\n",
      "contact              0\n",
      "duration             0\n",
      "campaign             0\n",
      "pdays                0\n",
      "previous             0\n",
      "poutcome             0\n",
      "emp.var.rate         0\n",
      "cons.price.idx     471\n",
      "cons.conf.idx        0\n",
      "euribor3m         9256\n",
      "nr.employed          0\n",
      "y                    0\n",
      "date               248\n",
      "latitude             0\n",
      "longitude            0\n",
      "id_                  0\n",
      "dtype: int64\n"
     ]
    }
   ],
   "source": [
    "# Información básica de los datos de clientes\n",
    "print(\"=== Información de Datos de Clientes ===\")\n",
    "get_basic_info(df_customers)\n",
    "\n",
    "# Información básica de los datos bancarios\n",
    "print(\"\\n=== Información de Datos Bancarios ===\")\n",
    "get_basic_info(df_bank)"
   ]
  },
  {
   "cell_type": "markdown",
   "metadata": {},
   "source": [
    "## 2. Transformación y limpieza de los datos"
   ]
  },
  {
   "cell_type": "markdown",
   "metadata": {},
   "source": [
    "### 2.1 Estandarización de nombres de columnas"
   ]
  },
  {
   "cell_type": "code",
   "execution_count": 4,
   "metadata": {},
   "outputs": [
    {
     "name": "stdout",
     "output_type": "stream",
     "text": [
      "Columnas en datos de clientes:\n",
      "['Income', 'Kidhome', 'Teenhome', 'Dt_Customer', 'NumWebVisitsMonth', 'ID']\n",
      "\n",
      "Columnas en datos bancarios:\n",
      "['age', 'job', 'marital', 'education', 'default', 'housing', 'loan', 'contact', 'duration', 'campaign', 'pdays', 'previous', 'poutcome', 'emp.var.rate', 'cons.price.idx', 'cons.conf.idx', 'euribor3m', 'nr.employed', 'y', 'date', 'latitude', 'longitude', 'id_']\n"
     ]
    }
   ],
   "source": [
    "# Mostrar columnas de cada dataset\n",
    "print(\"Columnas en datos de clientes:\")\n",
    "print(df_customers.columns.tolist())\n",
    "\n",
    "print(\"\\nColumnas en datos bancarios:\")\n",
    "print(df_bank.columns.tolist())"
   ]
  },
  {
   "cell_type": "code",
   "execution_count": 5,
   "metadata": {},
   "outputs": [
    {
     "name": "stdout",
     "output_type": "stream",
     "text": [
      "Columnas en datos de clientes después del rename:\n",
      "['Income', 'Number_of_Children', 'Number_of_Teenagers', 'Registration_Date', 'Monthly_Web_Visits', 'Customer_ID']\n",
      "\n",
      "Columnas en datos bancarios después del rename:\n",
      "['Age', 'Job', 'Marital_Status', 'Education_Level', 'Credit_Default', 'Mortgage_Loan', 'Personal_Loan', 'Contact_Type', 'Call_Duration', 'Campaign_Contacts', 'Days_Since_Last_Contact', 'Previous_Contacts', 'Previous_Campaign_Outcome', 'Employment_Variation_Rate', 'Consumer_Price_Index', 'Consumer_Confidence_Index', 'Euribor_3M_Rate', 'Number_of_Employees', 'Subscribed_to_Service', 'Date', 'Latitude', 'Longitude', 'Customer_ID']\n"
     ]
    }
   ],
   "source": [
    "# Rename de las columnas para una mejor comprensión de su significado, ya que algunas columnas presentan un exceso de abreviación\n",
    "# Renombrar columnas del dataset de clientes\n",
    "customer_columns_rename = {\n",
    "    'Income': 'Income',\n",
    "    'Kidhome': 'Number_of_Children',\n",
    "    'Teenhome': 'Number_of_Teenagers',\n",
    "    'Dt_Customer': 'Registration_Date',\n",
    "    'NumWebVisitsMonth': 'Monthly_Web_Visits',\n",
    "    'ID': 'Customer_ID'\n",
    "}\n",
    "\n",
    "# Renombrar columnas del dataset bancario\n",
    "bank_columns_rename = {\n",
    "    'age': 'Age',\n",
    "    'job': 'Job',\n",
    "    'marital': 'Marital_Status',\n",
    "    'education': 'Education_Level',\n",
    "    'default': 'Credit_Default',\n",
    "    'housing': 'Mortgage_Loan',\n",
    "    'loan': 'Personal_Loan',\n",
    "    'contact': 'Contact_Type',\n",
    "    'duration': 'Call_Duration',\n",
    "    'campaign': 'Campaign_Contacts',\n",
    "    'pdays': 'Days_Since_Last_Contact',\n",
    "    'previous': 'Previous_Contacts',\n",
    "    'poutcome': 'Previous_Campaign_Outcome',\n",
    "    'emp.var.rate': 'Employment_Variation_Rate',\n",
    "    'cons.price.idx': 'Consumer_Price_Index',\n",
    "    'cons.conf.idx': 'Consumer_Confidence_Index',\n",
    "    'euribor3m': 'Euribor_3M_Rate',\n",
    "    'nr.employed': 'Number_of_Employees',\n",
    "    'y': 'Subscribed_to_Service',\n",
    "    'date': 'Date',\n",
    "    'latitude': 'Latitude',\n",
    "    'longitude': 'Longitude',\n",
    "    'id_': 'Customer_ID'\n",
    "}\n",
    "\n",
    "# Aplicar los cambios\n",
    "df_customers = df_customers.rename(columns=customer_columns_rename)\n",
    "df_bank = df_bank.rename(columns=bank_columns_rename)\n",
    "\n",
    "# Verificar los cambios\n",
    "print(\"Columnas en datos de clientes después del rename:\")\n",
    "print(df_customers.columns.tolist())\n",
    "print(\"\\nColumnas en datos bancarios después del rename:\")\n",
    "print(df_bank.columns.tolist())"
   ]
  },
  {
   "cell_type": "markdown",
   "metadata": {},
   "source": [
    "### 2.2 Corrección de formato y transformación de columnas"
   ]
  },
  {
   "cell_type": "code",
   "execution_count": null,
   "metadata": {},
   "outputs": [],
   "source": [
    "# rhs"
   ]
  },
  {
   "cell_type": "markdown",
   "metadata": {},
   "source": [
    "### 2.3 Análisis de valores nulos"
   ]
  },
  {
   "cell_type": "code",
   "execution_count": 6,
   "metadata": {},
   "outputs": [
    {
     "name": "stdout",
     "output_type": "stream",
     "text": [
      "=== Valores Nulos en Datos de Clientes ===\n",
      "Series([], dtype: int64)\n",
      "\n",
      "=== Valores Nulos en Datos Bancarios ===\n",
      "Age                     5120\n",
      "Job                      345\n",
      "Marital_Status            85\n",
      "Education_Level         1807\n",
      "Credit_Default          8981\n",
      "Mortgage_Loan           1026\n",
      "Personal_Loan           1026\n",
      "Consumer_Price_Index     471\n",
      "Euribor_3M_Rate         9256\n",
      "Date                     248\n",
      "dtype: int64\n"
     ]
    }
   ],
   "source": [
    "# Análisis de valores nulos en datos de clientes\n",
    "print(\"=== Valores Nulos en Datos de Clientes ===\")\n",
    "null_customers = df_customers.isnull().sum()\n",
    "print(null_customers[null_customers > 0])\n",
    "\n",
    "# Análisis de valores nulos en datos bancarios\n",
    "print(\"\\n=== Valores Nulos en Datos Bancarios ===\")\n",
    "null_bank = df_bank.isnull().sum()\n",
    "print(null_bank[null_bank > 0])"
   ]
  },
  {
   "cell_type": "markdown",
   "metadata": {},
   "source": [
    "### 2.4 Tratado de los nulos"
   ]
  },
  {
   "cell_type": "code",
   "execution_count": 7,
   "metadata": {},
   "outputs": [
    {
     "ename": "TypeError",
     "evalue": "can only concatenate str (not \"int\") to str",
     "output_type": "error",
     "traceback": [
      "\u001b[31m---------------------------------------------------------------------------\u001b[39m",
      "\u001b[31mTypeError\u001b[39m                                 Traceback (most recent call last)",
      "\u001b[36mCell\u001b[39m\u001b[36m \u001b[39m\u001b[32mIn[7]\u001b[39m\u001b[32m, line 11\u001b[39m\n\u001b[32m      9\u001b[39m \u001b[38;5;66;03m# === Reemplazo de nulos en columnas numéricas con la media de la columna\u001b[39;00m\n\u001b[32m     10\u001b[39m \u001b[38;5;28;01mfor\u001b[39;00m col \u001b[38;5;129;01min\u001b[39;00m numeric_cols:\n\u001b[32m---> \u001b[39m\u001b[32m11\u001b[39m     mean_value = \u001b[43mdf_bank\u001b[49m\u001b[43m[\u001b[49m\u001b[43mcol\u001b[49m\u001b[43m]\u001b[49m\u001b[43m.\u001b[49m\u001b[43mmean\u001b[49m\u001b[43m(\u001b[49m\u001b[43m)\u001b[49m\n\u001b[32m     12\u001b[39m     df_bank[col] = df_bank[col].fillna(mean_value)\n\u001b[32m     14\u001b[39m \u001b[38;5;66;03m# === Reemplazo de nulos en columnas de fecha con la media de la fecha\u001b[39;00m\n\u001b[32m     15\u001b[39m \u001b[38;5;66;03m# Asegurar que sea datetime, errors='coerce' convierte strings invalidos a NaT (NaN para fechas)\u001b[39;00m\n",
      "\u001b[36mFile \u001b[39m\u001b[32mc:\\Users\\mck21\\OneDrive\\Documentos\\Programming\\Python\\eda-python\\venv\\Lib\\site-packages\\pandas\\core\\series.py:6549\u001b[39m, in \u001b[36mSeries.mean\u001b[39m\u001b[34m(self, axis, skipna, numeric_only, **kwargs)\u001b[39m\n\u001b[32m   6541\u001b[39m \u001b[38;5;129m@doc\u001b[39m(make_doc(\u001b[33m\"\u001b[39m\u001b[33mmean\u001b[39m\u001b[33m\"\u001b[39m, ndim=\u001b[32m1\u001b[39m))\n\u001b[32m   6542\u001b[39m \u001b[38;5;28;01mdef\u001b[39;00m\u001b[38;5;250m \u001b[39m\u001b[34mmean\u001b[39m(\n\u001b[32m   6543\u001b[39m     \u001b[38;5;28mself\u001b[39m,\n\u001b[32m   (...)\u001b[39m\u001b[32m   6547\u001b[39m     **kwargs,\n\u001b[32m   6548\u001b[39m ):\n\u001b[32m-> \u001b[39m\u001b[32m6549\u001b[39m     \u001b[38;5;28;01mreturn\u001b[39;00m \u001b[43mNDFrame\u001b[49m\u001b[43m.\u001b[49m\u001b[43mmean\u001b[49m\u001b[43m(\u001b[49m\u001b[38;5;28;43mself\u001b[39;49m\u001b[43m,\u001b[49m\u001b[43m \u001b[49m\u001b[43maxis\u001b[49m\u001b[43m,\u001b[49m\u001b[43m \u001b[49m\u001b[43mskipna\u001b[49m\u001b[43m,\u001b[49m\u001b[43m \u001b[49m\u001b[43mnumeric_only\u001b[49m\u001b[43m,\u001b[49m\u001b[43m \u001b[49m\u001b[43m*\u001b[49m\u001b[43m*\u001b[49m\u001b[43mkwargs\u001b[49m\u001b[43m)\u001b[49m\n",
      "\u001b[36mFile \u001b[39m\u001b[32mc:\\Users\\mck21\\OneDrive\\Documentos\\Programming\\Python\\eda-python\\venv\\Lib\\site-packages\\pandas\\core\\generic.py:12420\u001b[39m, in \u001b[36mNDFrame.mean\u001b[39m\u001b[34m(self, axis, skipna, numeric_only, **kwargs)\u001b[39m\n\u001b[32m  12413\u001b[39m \u001b[38;5;28;01mdef\u001b[39;00m\u001b[38;5;250m \u001b[39m\u001b[34mmean\u001b[39m(\n\u001b[32m  12414\u001b[39m     \u001b[38;5;28mself\u001b[39m,\n\u001b[32m  12415\u001b[39m     axis: Axis | \u001b[38;5;28;01mNone\u001b[39;00m = \u001b[32m0\u001b[39m,\n\u001b[32m   (...)\u001b[39m\u001b[32m  12418\u001b[39m     **kwargs,\n\u001b[32m  12419\u001b[39m ) -> Series | \u001b[38;5;28mfloat\u001b[39m:\n\u001b[32m> \u001b[39m\u001b[32m12420\u001b[39m     \u001b[38;5;28;01mreturn\u001b[39;00m \u001b[38;5;28;43mself\u001b[39;49m\u001b[43m.\u001b[49m\u001b[43m_stat_function\u001b[49m\u001b[43m(\u001b[49m\n\u001b[32m  12421\u001b[39m \u001b[43m        \u001b[49m\u001b[33;43m\"\u001b[39;49m\u001b[33;43mmean\u001b[39;49m\u001b[33;43m\"\u001b[39;49m\u001b[43m,\u001b[49m\u001b[43m \u001b[49m\u001b[43mnanops\u001b[49m\u001b[43m.\u001b[49m\u001b[43mnanmean\u001b[49m\u001b[43m,\u001b[49m\u001b[43m \u001b[49m\u001b[43maxis\u001b[49m\u001b[43m,\u001b[49m\u001b[43m \u001b[49m\u001b[43mskipna\u001b[49m\u001b[43m,\u001b[49m\u001b[43m \u001b[49m\u001b[43mnumeric_only\u001b[49m\u001b[43m,\u001b[49m\u001b[43m \u001b[49m\u001b[43m*\u001b[49m\u001b[43m*\u001b[49m\u001b[43mkwargs\u001b[49m\n\u001b[32m  12422\u001b[39m \u001b[43m    \u001b[49m\u001b[43m)\u001b[49m\n",
      "\u001b[36mFile \u001b[39m\u001b[32mc:\\Users\\mck21\\OneDrive\\Documentos\\Programming\\Python\\eda-python\\venv\\Lib\\site-packages\\pandas\\core\\generic.py:12377\u001b[39m, in \u001b[36mNDFrame._stat_function\u001b[39m\u001b[34m(self, name, func, axis, skipna, numeric_only, **kwargs)\u001b[39m\n\u001b[32m  12373\u001b[39m nv.validate_func(name, (), kwargs)\n\u001b[32m  12375\u001b[39m validate_bool_kwarg(skipna, \u001b[33m\"\u001b[39m\u001b[33mskipna\u001b[39m\u001b[33m\"\u001b[39m, none_allowed=\u001b[38;5;28;01mFalse\u001b[39;00m)\n\u001b[32m> \u001b[39m\u001b[32m12377\u001b[39m \u001b[38;5;28;01mreturn\u001b[39;00m \u001b[38;5;28;43mself\u001b[39;49m\u001b[43m.\u001b[49m\u001b[43m_reduce\u001b[49m\u001b[43m(\u001b[49m\n\u001b[32m  12378\u001b[39m \u001b[43m    \u001b[49m\u001b[43mfunc\u001b[49m\u001b[43m,\u001b[49m\u001b[43m \u001b[49m\u001b[43mname\u001b[49m\u001b[43m=\u001b[49m\u001b[43mname\u001b[49m\u001b[43m,\u001b[49m\u001b[43m \u001b[49m\u001b[43maxis\u001b[49m\u001b[43m=\u001b[49m\u001b[43maxis\u001b[49m\u001b[43m,\u001b[49m\u001b[43m \u001b[49m\u001b[43mskipna\u001b[49m\u001b[43m=\u001b[49m\u001b[43mskipna\u001b[49m\u001b[43m,\u001b[49m\u001b[43m \u001b[49m\u001b[43mnumeric_only\u001b[49m\u001b[43m=\u001b[49m\u001b[43mnumeric_only\u001b[49m\n\u001b[32m  12379\u001b[39m \u001b[43m\u001b[49m\u001b[43m)\u001b[49m\n",
      "\u001b[36mFile \u001b[39m\u001b[32mc:\\Users\\mck21\\OneDrive\\Documentos\\Programming\\Python\\eda-python\\venv\\Lib\\site-packages\\pandas\\core\\series.py:6457\u001b[39m, in \u001b[36mSeries._reduce\u001b[39m\u001b[34m(self, op, name, axis, skipna, numeric_only, filter_type, **kwds)\u001b[39m\n\u001b[32m   6452\u001b[39m     \u001b[38;5;66;03m# GH#47500 - change to TypeError to match other methods\u001b[39;00m\n\u001b[32m   6453\u001b[39m     \u001b[38;5;28;01mraise\u001b[39;00m \u001b[38;5;167;01mTypeError\u001b[39;00m(\n\u001b[32m   6454\u001b[39m         \u001b[33mf\u001b[39m\u001b[33m\"\u001b[39m\u001b[33mSeries.\u001b[39m\u001b[38;5;132;01m{\u001b[39;00mname\u001b[38;5;132;01m}\u001b[39;00m\u001b[33m does not allow \u001b[39m\u001b[38;5;132;01m{\u001b[39;00mkwd_name\u001b[38;5;132;01m}\u001b[39;00m\u001b[33m=\u001b[39m\u001b[38;5;132;01m{\u001b[39;00mnumeric_only\u001b[38;5;132;01m}\u001b[39;00m\u001b[33m \u001b[39m\u001b[33m\"\u001b[39m\n\u001b[32m   6455\u001b[39m         \u001b[33m\"\u001b[39m\u001b[33mwith non-numeric dtypes.\u001b[39m\u001b[33m\"\u001b[39m\n\u001b[32m   6456\u001b[39m     )\n\u001b[32m-> \u001b[39m\u001b[32m6457\u001b[39m \u001b[38;5;28;01mreturn\u001b[39;00m \u001b[43mop\u001b[49m\u001b[43m(\u001b[49m\u001b[43mdelegate\u001b[49m\u001b[43m,\u001b[49m\u001b[43m \u001b[49m\u001b[43mskipna\u001b[49m\u001b[43m=\u001b[49m\u001b[43mskipna\u001b[49m\u001b[43m,\u001b[49m\u001b[43m \u001b[49m\u001b[43m*\u001b[49m\u001b[43m*\u001b[49m\u001b[43mkwds\u001b[49m\u001b[43m)\u001b[49m\n",
      "\u001b[36mFile \u001b[39m\u001b[32mc:\\Users\\mck21\\OneDrive\\Documentos\\Programming\\Python\\eda-python\\venv\\Lib\\site-packages\\pandas\\core\\nanops.py:147\u001b[39m, in \u001b[36mbottleneck_switch.__call__.<locals>.f\u001b[39m\u001b[34m(values, axis, skipna, **kwds)\u001b[39m\n\u001b[32m    145\u001b[39m         result = alt(values, axis=axis, skipna=skipna, **kwds)\n\u001b[32m    146\u001b[39m \u001b[38;5;28;01melse\u001b[39;00m:\n\u001b[32m--> \u001b[39m\u001b[32m147\u001b[39m     result = \u001b[43malt\u001b[49m\u001b[43m(\u001b[49m\u001b[43mvalues\u001b[49m\u001b[43m,\u001b[49m\u001b[43m \u001b[49m\u001b[43maxis\u001b[49m\u001b[43m=\u001b[49m\u001b[43maxis\u001b[49m\u001b[43m,\u001b[49m\u001b[43m \u001b[49m\u001b[43mskipna\u001b[49m\u001b[43m=\u001b[49m\u001b[43mskipna\u001b[49m\u001b[43m,\u001b[49m\u001b[43m \u001b[49m\u001b[43m*\u001b[49m\u001b[43m*\u001b[49m\u001b[43mkwds\u001b[49m\u001b[43m)\u001b[49m\n\u001b[32m    149\u001b[39m \u001b[38;5;28;01mreturn\u001b[39;00m result\n",
      "\u001b[36mFile \u001b[39m\u001b[32mc:\\Users\\mck21\\OneDrive\\Documentos\\Programming\\Python\\eda-python\\venv\\Lib\\site-packages\\pandas\\core\\nanops.py:404\u001b[39m, in \u001b[36m_datetimelike_compat.<locals>.new_func\u001b[39m\u001b[34m(values, axis, skipna, mask, **kwargs)\u001b[39m\n\u001b[32m    401\u001b[39m \u001b[38;5;28;01mif\u001b[39;00m datetimelike \u001b[38;5;129;01mand\u001b[39;00m mask \u001b[38;5;129;01mis\u001b[39;00m \u001b[38;5;28;01mNone\u001b[39;00m:\n\u001b[32m    402\u001b[39m     mask = isna(values)\n\u001b[32m--> \u001b[39m\u001b[32m404\u001b[39m result = \u001b[43mfunc\u001b[49m\u001b[43m(\u001b[49m\u001b[43mvalues\u001b[49m\u001b[43m,\u001b[49m\u001b[43m \u001b[49m\u001b[43maxis\u001b[49m\u001b[43m=\u001b[49m\u001b[43maxis\u001b[49m\u001b[43m,\u001b[49m\u001b[43m \u001b[49m\u001b[43mskipna\u001b[49m\u001b[43m=\u001b[49m\u001b[43mskipna\u001b[49m\u001b[43m,\u001b[49m\u001b[43m \u001b[49m\u001b[43mmask\u001b[49m\u001b[43m=\u001b[49m\u001b[43mmask\u001b[49m\u001b[43m,\u001b[49m\u001b[43m \u001b[49m\u001b[43m*\u001b[49m\u001b[43m*\u001b[49m\u001b[43mkwargs\u001b[49m\u001b[43m)\u001b[49m\n\u001b[32m    406\u001b[39m \u001b[38;5;28;01mif\u001b[39;00m datetimelike:\n\u001b[32m    407\u001b[39m     result = _wrap_results(result, orig_values.dtype, fill_value=iNaT)\n",
      "\u001b[36mFile \u001b[39m\u001b[32mc:\\Users\\mck21\\OneDrive\\Documentos\\Programming\\Python\\eda-python\\venv\\Lib\\site-packages\\pandas\\core\\nanops.py:719\u001b[39m, in \u001b[36mnanmean\u001b[39m\u001b[34m(values, axis, skipna, mask)\u001b[39m\n\u001b[32m    716\u001b[39m     dtype_count = dtype\n\u001b[32m    718\u001b[39m count = _get_counts(values.shape, mask, axis, dtype=dtype_count)\n\u001b[32m--> \u001b[39m\u001b[32m719\u001b[39m the_sum = \u001b[43mvalues\u001b[49m\u001b[43m.\u001b[49m\u001b[43msum\u001b[49m\u001b[43m(\u001b[49m\u001b[43maxis\u001b[49m\u001b[43m,\u001b[49m\u001b[43m \u001b[49m\u001b[43mdtype\u001b[49m\u001b[43m=\u001b[49m\u001b[43mdtype_sum\u001b[49m\u001b[43m)\u001b[49m\n\u001b[32m    720\u001b[39m the_sum = _ensure_numeric(the_sum)\n\u001b[32m    722\u001b[39m \u001b[38;5;28;01mif\u001b[39;00m axis \u001b[38;5;129;01mis\u001b[39;00m \u001b[38;5;129;01mnot\u001b[39;00m \u001b[38;5;28;01mNone\u001b[39;00m \u001b[38;5;129;01mand\u001b[39;00m \u001b[38;5;28mgetattr\u001b[39m(the_sum, \u001b[33m\"\u001b[39m\u001b[33mndim\u001b[39m\u001b[33m\"\u001b[39m, \u001b[38;5;28;01mFalse\u001b[39;00m):\n",
      "\u001b[36mFile \u001b[39m\u001b[32mc:\\Users\\mck21\\OneDrive\\Documentos\\Programming\\Python\\eda-python\\venv\\Lib\\site-packages\\numpy\\_core\\_methods.py:52\u001b[39m, in \u001b[36m_sum\u001b[39m\u001b[34m(a, axis, dtype, out, keepdims, initial, where)\u001b[39m\n\u001b[32m     50\u001b[39m \u001b[38;5;28;01mdef\u001b[39;00m\u001b[38;5;250m \u001b[39m\u001b[34m_sum\u001b[39m(a, axis=\u001b[38;5;28;01mNone\u001b[39;00m, dtype=\u001b[38;5;28;01mNone\u001b[39;00m, out=\u001b[38;5;28;01mNone\u001b[39;00m, keepdims=\u001b[38;5;28;01mFalse\u001b[39;00m,\n\u001b[32m     51\u001b[39m          initial=_NoValue, where=\u001b[38;5;28;01mTrue\u001b[39;00m):\n\u001b[32m---> \u001b[39m\u001b[32m52\u001b[39m     \u001b[38;5;28;01mreturn\u001b[39;00m \u001b[43mumr_sum\u001b[49m\u001b[43m(\u001b[49m\u001b[43ma\u001b[49m\u001b[43m,\u001b[49m\u001b[43m \u001b[49m\u001b[43maxis\u001b[49m\u001b[43m,\u001b[49m\u001b[43m \u001b[49m\u001b[43mdtype\u001b[49m\u001b[43m,\u001b[49m\u001b[43m \u001b[49m\u001b[43mout\u001b[49m\u001b[43m,\u001b[49m\u001b[43m \u001b[49m\u001b[43mkeepdims\u001b[49m\u001b[43m,\u001b[49m\u001b[43m \u001b[49m\u001b[43minitial\u001b[49m\u001b[43m,\u001b[49m\u001b[43m \u001b[49m\u001b[43mwhere\u001b[49m\u001b[43m)\u001b[49m\n",
      "\u001b[31mTypeError\u001b[39m: can only concatenate str (not \"int\") to str"
     ]
    }
   ],
   "source": [
    "# Detectar tipos de columnas\n",
    "categorical_cols = ['Job', 'Marital_Status', 'Education_Level', 'Credit_Default', 'Mortgage_Loan', 'Personal_Loan']\n",
    "numeric_cols = ['Age', 'Consumer_Price_Index', 'Euribor_3M_Rate']\n",
    "date_cols = ['Date']\n",
    "\n",
    "# === Reemplazo de nulos en columnas categóricas con \"Unknown\"\n",
    "df_bank[categorical_cols] = df_bank[categorical_cols].fillna(\"Unknown\")\n",
    "\n",
    "# === Reemplazo de nulos en columnas numéricas con la media de la columna\n",
    "for col in numeric_cols:\n",
    "    mean_value = df_bank[col].mean()\n",
    "    df_bank[col] = df_bank[col].fillna(mean_value)\n",
    "\n",
    "# === Reemplazo de nulos en columnas de fecha con la media de la fecha\n",
    "# Asegurar que sea datetime, errors='coerce' convierte strings invalidos a NaT (NaN para fechas)\n",
    "df_bank['Date'] = pd.to_datetime(df_bank['Date'], errors='coerce')\n",
    "\n",
    "# Calcular la media temporal (convertir a timestamp -> sacar media -> volver a datetime)\n",
    "mean_timestamp = df_bank['Date'].dropna().astype(np.int64).mean()\n",
    "mean_date = pd.to_datetime(mean_timestamp)\n",
    "\n",
    "# Reemplazar los nulos por la fecha promedio\n",
    "df_bank['Date'] = df_bank['Date'].fillna(mean_date)\n",
    "\n",
    "\n",
    "# Verifica que no queden nulos\n",
    "print(df_bank.isnull().sum().sort_values(ascending=False))"
   ]
  },
  {
   "cell_type": "code",
   "execution_count": null,
   "metadata": {},
   "outputs": [],
   "source": [
    "# Información básica de los datos de clientes\n",
    "print(\"=== Información de Datos de Clientes ===\")\n",
    "get_basic_info(df_customers)\n",
    "\n",
    "# Información básica de los datos bancarios\n",
    "print(\"\\n=== Información de Datos Bancarios ===\")\n",
    "get_basic_info(df_bank)"
   ]
  }
 ],
 "metadata": {
  "kernelspec": {
   "display_name": "venv",
   "language": "python",
   "name": "python3"
  },
  "language_info": {
   "codemirror_mode": {
    "name": "ipython",
    "version": 3
   },
   "file_extension": ".py",
   "mimetype": "text/x-python",
   "name": "python",
   "nbconvert_exporter": "python",
   "pygments_lexer": "ipython3",
   "version": "3.13.2"
  }
 },
 "nbformat": 4,
 "nbformat_minor": 4
}
